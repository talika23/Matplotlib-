{
 "cells": [
  {
   "cell_type": "code",
   "execution_count": null,
   "id": "27b09502-d9af-450d-82c4-02297f3e017d",
   "metadata": {},
   "outputs": [],
   "source": []
  }
 ],
 "metadata": {
  "kernelspec": {
   "display_name": "",
   "name": ""
  },
  "language_info": {
   "name": ""
  }
 },
 "nbformat": 4,
 "nbformat_minor": 5
}
