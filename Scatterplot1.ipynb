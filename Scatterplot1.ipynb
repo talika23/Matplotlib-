{
 "cells": [
  {
   "cell_type": "code",
   "execution_count": null,
   "id": "e049aaf4-47ee-4407-844c-a9a27fa15089",
   "metadata": {},
   "outputs": [],
   "source": []
  }
 ],
 "metadata": {
  "kernelspec": {
   "display_name": "",
   "name": ""
  },
  "language_info": {
   "name": ""
  }
 },
 "nbformat": 4,
 "nbformat_minor": 5
}
